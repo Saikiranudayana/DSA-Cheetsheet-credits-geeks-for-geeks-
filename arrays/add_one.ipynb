{
 "cells": [
  {
   "cell_type": "code",
   "execution_count": null,
   "id": "c87062d1",
   "metadata": {},
   "outputs": [
    {
     "name": "stdout",
     "output_type": "stream",
     "text": [
      "[1, 0, 0, 0]\n"
     ]
    }
   ],
   "source": [
    "##First approach\n",
    "\n",
    "def addone(arr):\n",
    "    carry =1\n",
    "    n= len(arr)\n",
    "    for i in range(n-1,-1,-1):\n",
    "        sum = arr[i]+carry\n",
    "        arr[i]=sum%10\n",
    "        carry= sum//10\n",
    "    if carry:\n",
    "        arr.insert(0,carry)\n",
    "    return arr\n",
    "\n",
    "\n",
    "if __name__ ==\"__main__\":\n",
    "    arr= [9,9,9]\n",
    "    addone(arr)\n",
    "    print(arr)"
   ]
  },
  {
   "cell_type": "code",
   "execution_count": 7,
   "id": "e535c13e",
   "metadata": {},
   "outputs": [
    {
     "name": "stdout",
     "output_type": "stream",
     "text": [
      "[1, 0, 0, 0]\n"
     ]
    }
   ],
   "source": [
    "##second approach\n",
    "\n",
    "def addone2(arr):\n",
    "    n= len(arr)\n",
    "    i = n-1\n",
    "    while i>=0 and arr[i]==9:\n",
    "        arr[i]=0\n",
    "        i-=1\n",
    "    if i<0:\n",
    "        arr.insert(0,1)\n",
    "    else:\n",
    "        arr[i]+=1\n",
    "    return arr\n",
    "\n",
    "if __name__ ==\"__main__\":\n",
    "    arr= [9,9,9]\n",
    "    addone2(arr)\n",
    "    print(arr)\n",
    "    "
   ]
  },
  {
   "cell_type": "code",
   "execution_count": 9,
   "id": "e1120ec7",
   "metadata": {},
   "outputs": [
    {
     "name": "stdout",
     "output_type": "stream",
     "text": [
      "[1, 0, 0, 0]\n"
     ]
    }
   ],
   "source": [
    "##Improved version of the second approach\n",
    "\n",
    "def addone3(arr):\n",
    "    arr.reverse()\n",
    "    i= 0\n",
    "    n= len(arr)\n",
    "    while i<n and arr[i]==9:\n",
    "        arr[i]=0\n",
    "        i+=1\n",
    "    if i==n:\n",
    "        arr.append(1)\n",
    "    else:\n",
    "        arr[i]+=1\n",
    "    arr.reverse()\n",
    "    return arr\n",
    "\n",
    "if __name__ ==\"__main__\":\n",
    "    arr= [9,9,9]\n",
    "    addone3(arr)\n",
    "    print(arr)"
   ]
  },
  {
   "cell_type": "code",
   "execution_count": null,
   "id": "bc693aec",
   "metadata": {},
   "outputs": [],
   "source": []
  }
 ],
 "metadata": {
  "kernelspec": {
   "display_name": "base",
   "language": "python",
   "name": "python3"
  },
  "language_info": {
   "codemirror_mode": {
    "name": "ipython",
    "version": 3
   },
   "file_extension": ".py",
   "mimetype": "text/x-python",
   "name": "python",
   "nbconvert_exporter": "python",
   "pygments_lexer": "ipython3",
   "version": "3.8.20"
  }
 },
 "nbformat": 4,
 "nbformat_minor": 5
}
