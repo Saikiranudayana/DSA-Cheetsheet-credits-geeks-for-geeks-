{
 "cells": [
  {
   "cell_type": "code",
   "execution_count": 5,
   "id": "d43518ba",
   "metadata": {},
   "outputs": [
    {
     "name": "stdout",
     "output_type": "stream",
     "text": [
      "1200\n"
     ]
    }
   ],
   "source": [
    "##Brute force approach\n",
    "\n",
    "def maxproductoftriplets(arr):\n",
    "    n= len(arr)\n",
    "    maxproduct = -10**90\n",
    "    for i in range(0,n-2):\n",
    "        for j in range(i+1,n-1):\n",
    "            for k in range(j+1,n):\n",
    "                maxproduct =max(maxproduct,arr[i]*arr[j]*arr[k])\n",
    "    return maxproduct\n",
    "                \n",
    "\n",
    "print(maxproductoftriplets([10, 3, 5, 6, 20]))"
   ]
  },
  {
   "cell_type": "code",
   "execution_count": 6,
   "metadata": {},
   "outputs": [
    {
     "name": "stdout",
     "output_type": "stream",
     "text": [
      "-90\n"
     ]
    }
   ],
   "source": [
    "##Sorting approach\n",
    "\n",
    "def maxproduct2(arr):\n",
    "    n= len(arr)\n",
    "    arr.sort()\n",
    "    return max(arr[0]*arr[1]*arr[n-1],arr[n-1]*arr[n-2]*arr[n-3])\n",
    "\n",
    "print(maxproduct2([-10, -3, -5, -6, -20]))"
   ]
  },
  {
   "cell_type": "code",
   "execution_count": 7,
   "id": "cabb018d",
   "metadata": {},
   "outputs": [
    {
     "name": "stdout",
     "output_type": "stream",
     "text": [
      "-90\n"
     ]
    }
   ],
   "source": [
    "##Greddy approach\n",
    "\n",
    "def maxproduct3(arr):\n",
    "    n= len(arr)\n",
    "    maxa = maxb = maxc =mina=minb= float('-inf')\n",
    "    for i in range(n):\n",
    "        if arr[i]>maxa:\n",
    "            maxc= maxb\n",
    "            maxb=maxa\n",
    "            maxa = arr[i]\n",
    "        elif arr[i]>maxb:\n",
    "            maxc=maxb\n",
    "            maxb= arr[i]\n",
    "        elif arr[i]>maxc:\n",
    "            maxc=arr[i]\n",
    "        \n",
    "        if arr[i]<mina:\n",
    "            minb= mina\n",
    "            mina= arr[i]\n",
    "        elif arr[i]<minb:\n",
    "            minb= arr[i]\n",
    "    return max(mina*minb*maxa,maxa*maxb*maxc)            \n",
    "            \n",
    "print(maxproduct3([-10, -3, -5, -6, -20]))"
   ]
  },
  {
   "cell_type": "code",
   "execution_count": null,
   "id": "7c9ff515",
   "metadata": {},
   "outputs": [],
   "source": []
  }
 ],
 "metadata": {
  "kernelspec": {
   "display_name": "base",
   "language": "python",
   "name": "python3"
  },
  "language_info": {
   "codemirror_mode": {
    "name": "ipython",
    "version": 3
   },
   "file_extension": ".py",
   "mimetype": "text/x-python",
   "name": "python",
   "nbconvert_exporter": "python",
   "pygments_lexer": "ipython3",
   "version": "3.8.20"
  }
 },
 "nbformat": 4,
 "nbformat_minor": 5
}
