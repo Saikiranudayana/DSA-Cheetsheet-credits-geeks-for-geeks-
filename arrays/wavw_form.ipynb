{
 "cells": [
  {
   "cell_type": "code",
   "execution_count": 2,
   "id": "583bb768",
   "metadata": {},
   "outputs": [
    {
     "name": "stdout",
     "output_type": "stream",
     "text": [
      "[2, 1, 10, 5, 49, 23, 90]\n"
     ]
    }
   ],
   "source": [
    "##first approach\n",
    "##using sort ing function\n",
    "    \n",
    "def sortwave(arr):\n",
    "    n= len(arr)\n",
    "    arr.sort()\n",
    "    for i in range(0,n-1,2):\n",
    "        arr[i],arr[i+1]=arr[i+1],arr[i]\n",
    "        \n",
    "        \n",
    "if __name__ ==\"__main__\":\n",
    "    arr= [10, 90, 49, 2, 1, 5, 23]\n",
    "    ans = sortwave(arr)\n",
    "    print(arr)"
   ]
  },
  {
   "cell_type": "code",
   "execution_count": 5,
   "id": "5264e440",
   "metadata": {},
   "outputs": [
    {
     "name": "stdout",
     "output_type": "stream",
     "text": [
      "[90, 10, 49, 1, 5, 2, 23]\n"
     ]
    }
   ],
   "source": [
    "##second approach\n",
    "\n",
    "def sortwave(arr):\n",
    "    n= len(arr)\n",
    "    for i in range(0,n,2):\n",
    "        if(i>0 and arr[i]<arr[i-1]):\n",
    "            arr[i],arr[i-1]= arr[i-1],arr[i]\n",
    "        if(i<n-1 and arr[i]<arr[i+1]):\n",
    "            arr[i],arr[i+1]=arr[i+1],arr[i]\n",
    "            \n",
    "if __name__ ==\"__main__\":\n",
    "    arr=[10, 90, 49, 2, 1, 5, 23]\n",
    "    sortwave(arr)\n",
    "    print(arr)"
   ]
  },
  {
   "cell_type": "code",
   "execution_count": null,
   "id": "1816ac66",
   "metadata": {},
   "outputs": [],
   "source": []
  },
  {
   "cell_type": "code",
   "execution_count": null,
   "id": "6eead79e",
   "metadata": {},
   "outputs": [],
   "source": []
  }
 ],
 "metadata": {
  "kernelspec": {
   "display_name": "base",
   "language": "python",
   "name": "python3"
  },
  "language_info": {
   "codemirror_mode": {
    "name": "ipython",
    "version": 3
   },
   "file_extension": ".py",
   "mimetype": "text/x-python",
   "name": "python",
   "nbconvert_exporter": "python",
   "pygments_lexer": "ipython3",
   "version": "3.8.20"
  }
 },
 "nbformat": 4,
 "nbformat_minor": 5
}
