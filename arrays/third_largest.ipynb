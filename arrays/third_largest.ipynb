{
 "cells": [
  {
   "cell_type": "code",
   "execution_count": 1,
   "id": "8275a72c",
   "metadata": {},
   "outputs": [
    {
     "name": "stdout",
     "output_type": "stream",
     "text": [
      "1\n"
     ]
    }
   ],
   "source": [
    "def thirdlargest1(arr):\n",
    "    n= len(arr)\n",
    "    arr.sort()\n",
    "    return arr[n-3]\n",
    "\n",
    "if __name__ == '__main__':\n",
    "    arr = [1,2,3]\n",
    "    print(thirdlargest1(arr))\n",
    "    "
   ]
  },
  {
   "cell_type": "code",
   "execution_count": 5,
   "id": "001deb03",
   "metadata": {},
   "outputs": [
    {
     "name": "stdout",
     "output_type": "stream",
     "text": [
      "14\n"
     ]
    }
   ],
   "source": [
    "def thirdlargest2(arr):\n",
    "    n= len(arr)\n",
    "    first =second=third= float('-inf')\n",
    "    for i in range(n):\n",
    "        if arr[i]>first:\n",
    "            first = arr[i]\n",
    "   \n",
    "    for i in range(n):\n",
    "        if arr[i]<first and arr[i]>second:\n",
    "            second = arr[i]\n",
    "    \n",
    "    for i in range(n):\n",
    "        if arr[i]<second and arr[i]>third:\n",
    "            third = arr[i]\n",
    "    return third\n",
    "if __name__ == \"__main__\":\n",
    "    arr = [1, 14, 2, 16, 10, 20]\n",
    "    print(thirdlargest2(arr))"
   ]
  },
  {
   "cell_type": "code",
   "execution_count": 7,
   "id": "858cc7ae",
   "metadata": {},
   "outputs": [
    {
     "name": "stdout",
     "output_type": "stream",
     "text": [
      "10\n",
      "<function thirdlargest3 at 0x00000231D3561790>\n"
     ]
    }
   ],
   "source": [
    "def thirdlargest3(arr):\n",
    "    n= len(arr)\n",
    "    first= second = third = float('-inf')\n",
    "    for i in range(n):\n",
    "        if arr[i]>first:\n",
    "            third = second\n",
    "            second = third\n",
    "            first = arr[i]\n",
    "        elif arr[i]>second:\n",
    "            third = second\n",
    "            second = arr[i]\n",
    "        elif arr[i]>third:\n",
    "            third= arr[i]\n",
    "    return third\n",
    "\n",
    "if __name__ == \"__main__\":\n",
    "    arr = [1, 14, 2, 16, 10, 20]\n",
    "    print(thirdlargest3(arr))  # Call the function with the argument\n",
    "\n",
    "if __name__ ==\"__main__\":\n",
    "    arr= [1,14,2,16,10,20]\n",
    "    print(thirdlargest3)\n",
    "    "
   ]
  },
  {
   "cell_type": "code",
   "execution_count": null,
   "id": "1913cf3d",
   "metadata": {},
   "outputs": [],
   "source": [
    "class Solution(object):\n",
    "    def thirdMax(self, nums):\n",
    "        \"\"\"\n",
    "        :type nums: List[int]\n",
    "        :rtype: int\n",
    "        \"\"\"\n",
    "        n = len(nums)\n",
    "        first = second = third = float('-inf')\n",
    "        for i in range(n):\n",
    "            if nums[i] > first:\n",
    "                third = second\n",
    "                second = first\n",
    "                first = nums[i]\n",
    "            elif nums[i] > second and nums[i] != first:\n",
    "                third = second\n",
    "                second = nums[i]\n",
    "            elif nums[i] > third and nums[i] != second and nums[i] != first:\n",
    "                third = nums[i]\n",
    "        \n",
    "        # If third is still negative infinity, return the second number\n",
    "        return second if third == float('-inf') else third\n",
    "        \n",
    "\n",
    "# Example usage\n",
    "solution = Solution()\n",
    "print(solution.thirdMax(arr))  # Use the variable `arr` already defined in the notebook"
   ]
  },
  {
   "cell_type": "code",
   "execution_count": null,
   "id": "1ab5e6a6",
   "metadata": {},
   "outputs": [],
   "source": []
  },
  {
   "cell_type": "code",
   "execution_count": null,
   "id": "adcd8492",
   "metadata": {},
   "outputs": [],
   "source": []
  }
 ],
 "metadata": {
  "kernelspec": {
   "display_name": "base",
   "language": "python",
   "name": "python3"
  },
  "language_info": {
   "codemirror_mode": {
    "name": "ipython",
    "version": 3
   },
   "file_extension": ".py",
   "mimetype": "text/x-python",
   "name": "python",
   "nbconvert_exporter": "python",
   "pygments_lexer": "ipython3",
   "version": "3.8.20"
  }
 },
 "nbformat": 4,
 "nbformat_minor": 5
}
