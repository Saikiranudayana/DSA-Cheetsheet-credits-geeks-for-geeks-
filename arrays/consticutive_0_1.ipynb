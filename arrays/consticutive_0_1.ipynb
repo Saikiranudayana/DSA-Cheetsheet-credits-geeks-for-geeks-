{
 "cells": [
  {
   "cell_type": "code",
   "execution_count": 1,
   "id": "79395d7b",
   "metadata": {},
   "outputs": [
    {
     "name": "stdout",
     "output_type": "stream",
     "text": [
      "4\n"
     ]
    }
   ],
   "source": [
    "##arr[i]==arr[i-1]\n",
    "\n",
    "def consecutivemax(arr):\n",
    "    maxcount,count=0,1\n",
    "    for i in range(1,len(arr)):\n",
    "        if arr[i]==arr[i-1]:\n",
    "            count+=1\n",
    "        else:\n",
    "            maxcount= max(maxcount,count)\n",
    "            count=1\n",
    "    return max(maxcount,count)\n",
    "\n",
    "\n",
    "print(consecutivemax([1, 1, 0, 0, 1, 0, 1, 0, 1, 1, 1, 1]))"
   ]
  },
  {
   "cell_type": "code",
   "execution_count": 3,
   "id": "b5c2b784",
   "metadata": {},
   "outputs": [
    {
     "name": "stdout",
     "output_type": "stream",
     "text": [
      "4\n"
     ]
    }
   ],
   "source": [
    "def maxcount(arr):\n",
    "    maxcount,count,prev=0,1,-1\n",
    "    for num in arr:\n",
    "        if prev^num==0:\n",
    "            count+=1\n",
    "        else:\n",
    "            maxcount = max(maxcount,count)\n",
    "            count=1\n",
    "        prev=num\n",
    "    return max(maxcount,count)\n",
    "\n",
    "\n",
    "print(maxcount([1, 1, 0, 0, 1, 0, 1, 0, 1, 1, 1, 1]))"
   ]
  },
  {
   "cell_type": "code",
   "execution_count": null,
   "id": "c8234734",
   "metadata": {},
   "outputs": [],
   "source": []
  }
 ],
 "metadata": {
  "kernelspec": {
   "display_name": "base",
   "language": "python",
   "name": "python3"
  },
  "language_info": {
   "codemirror_mode": {
    "name": "ipython",
    "version": 3
   },
   "file_extension": ".py",
   "mimetype": "text/x-python",
   "name": "python",
   "nbconvert_exporter": "python",
   "pygments_lexer": "ipython3",
   "version": "3.8.20"
  }
 },
 "nbformat": 4,
 "nbformat_minor": 5
}
