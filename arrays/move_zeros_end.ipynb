{
 "cells": [
  {
   "cell_type": "code",
   "execution_count": 5,
   "id": "12594691",
   "metadata": {},
   "outputs": [
    {
     "name": "stdout",
     "output_type": "stream",
     "text": [
      "[1, 2, 3, 0, 0, 0]\n"
     ]
    }
   ],
   "source": [
    "def movezero(arr):\n",
    "    n= len(arr)\n",
    "    count =0\n",
    "    for i in range(n):\n",
    "        if arr[i] !=0:\n",
    "            arr[count],arr[i]=arr[i],arr[count]\n",
    "            count+=1\n",
    "        \n",
    "if __name__ ==\"__main__\":\n",
    "    arr=[1,0,2,0,3,0]\n",
    "    movezero(arr)\n",
    "    print(arr)"
   ]
  },
  {
   "cell_type": "code",
   "execution_count": null,
   "id": "16275b48",
   "metadata": {},
   "outputs": [],
   "source": []
  }
 ],
 "metadata": {
  "kernelspec": {
   "display_name": "base",
   "language": "python",
   "name": "python3"
  },
  "language_info": {
   "codemirror_mode": {
    "name": "ipython",
    "version": 3
   },
   "file_extension": ".py",
   "mimetype": "text/x-python",
   "name": "python",
   "nbconvert_exporter": "python",
   "pygments_lexer": "ipython3",
   "version": "3.8.20"
  }
 },
 "nbformat": 4,
 "nbformat_minor": 5
}
