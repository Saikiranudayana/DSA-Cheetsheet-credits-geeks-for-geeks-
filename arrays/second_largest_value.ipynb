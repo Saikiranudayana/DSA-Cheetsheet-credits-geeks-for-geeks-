{
 "cells": [
  {
   "cell_type": "code",
   "execution_count": 2,
   "id": "2ef02881",
   "metadata": {},
   "outputs": [
    {
     "name": "stdout",
     "output_type": "stream",
     "text": [
      "34\n"
     ]
    }
   ],
   "source": [
    "##Brute force aproch[navie approach]\n",
    "def secondlargest(arr):\n",
    "    n= len(arr)\n",
    "    for i in range(n-2,-1,-1):\n",
    "        if arr[i]!=arr[n-1]:\n",
    "            return arr[i]\n",
    "    return -1 \n",
    "\n",
    "\n",
    "arr= [12,35,1,10,34,1]\n",
    "print(secondlargest(arr))"
   ]
  },
  {
   "cell_type": "code",
   "execution_count": 4,
   "id": "c470fc9e",
   "metadata": {},
   "outputs": [
    {
     "name": "stdout",
     "output_type": "stream",
     "text": [
      "34\n"
     ]
    }
   ],
   "source": [
    "##two pass approach \n",
    "def secondlargest2(arr):\n",
    "    n= len(arr)\n",
    "    largest= -1\n",
    "    secondlargest = -1\n",
    "    for i in range(n):\n",
    "        if arr[i]>largest:\n",
    "            largest = arr[i]\n",
    "    for i in range(n):\n",
    "        if arr[i]>secondlargest and arr[i]!=largest:\n",
    "            secondlargest = arr[i]\n",
    "    return secondlargest\n",
    "\n",
    "\n",
    "if __name__ == \"__main__\":\n",
    "    arr= [12,35,1,10,34,1]\n",
    "    print(secondlargest2(arr))\n"
   ]
  },
  {
   "cell_type": "code",
   "execution_count": 5,
   "id": "fb406ea9",
   "metadata": {},
   "outputs": [
    {
     "name": "stdout",
     "output_type": "stream",
     "text": [
      "34\n"
     ]
    }
   ],
   "source": [
    "##one pass approach \n",
    "def secondlargest3(arr):\n",
    "    n= len(arr)\n",
    "    largest = -1\n",
    "    secondlargest = -1\n",
    "    for i in range(n):\n",
    "        if arr[i]>largest:\n",
    "            secondlargest = largest\n",
    "            largest= arr[i]\n",
    "        if arr[i]<largest and arr[i]>secondlargest:\n",
    "            secondlargest = arr[i]\n",
    "    return secondlargest\n",
    "\n",
    "\n",
    "if __name__ == \"__main__\":\n",
    "    arr= [12,35,1,10,34,1]\n",
    "    print(secondlargest3(arr))"
   ]
  },
  {
   "cell_type": "code",
   "execution_count": null,
   "id": "45beb7fa",
   "metadata": {},
   "outputs": [],
   "source": []
  }
 ],
 "metadata": {
  "kernelspec": {
   "display_name": "base",
   "language": "python",
   "name": "python3"
  },
  "language_info": {
   "codemirror_mode": {
    "name": "ipython",
    "version": 3
   },
   "file_extension": ".py",
   "mimetype": "text/x-python",
   "name": "python",
   "nbconvert_exporter": "python",
   "pygments_lexer": "ipython3",
   "version": "3.8.20"
  }
 },
 "nbformat": 4,
 "nbformat_minor": 5
}
