{
 "cells": [
  {
   "cell_type": "code",
   "execution_count": 6,
   "id": "38d84a07",
   "metadata": {},
   "outputs": [
    {
     "name": "stdout",
     "output_type": "stream",
     "text": [
      "[3, 4, 5, 6, 1, 2]\n"
     ]
    }
   ],
   "source": [
    "def roatewithd(arr,d):\n",
    "    n=len(arr)\n",
    "    d %= n\n",
    "    reverse(arr,0,d-1)\n",
    "    reverse(arr,d,n-1)\n",
    "    reverse(arr,0,n-1)\n",
    "\n",
    "def reverse(arr,start,end):\n",
    "    while start<end:\n",
    "        arr[start],arr[end]=arr[end],arr[start]\n",
    "        start+=1\n",
    "        end-=1\n",
    "\n",
    "if __name__ ==\"__main__\":\n",
    "    arr= [1,2,3,4,5,6]\n",
    "    d=2\n",
    "    roatewithd(arr,d)\n",
    "    print(arr)\n",
    "    "
   ]
  },
  {
   "cell_type": "code",
   "execution_count": null,
   "id": "95dc2bd4",
   "metadata": {},
   "outputs": [],
   "source": []
  }
 ],
 "metadata": {
  "kernelspec": {
   "display_name": "base",
   "language": "python",
   "name": "python3"
  },
  "language_info": {
   "codemirror_mode": {
    "name": "ipython",
    "version": 3
   },
   "file_extension": ".py",
   "mimetype": "text/x-python",
   "name": "python",
   "nbconvert_exporter": "python",
   "pygments_lexer": "ipython3",
   "version": "3.8.20"
  }
 },
 "nbformat": 4,
 "nbformat_minor": 5
}
